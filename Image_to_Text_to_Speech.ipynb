{
  "nbformat": 4,
  "nbformat_minor": 0,
  "metadata": {
    "colab": {
      "provenance": [],
      "authorship_tag": "ABX9TyM8qqwgFNay6wC+TtHejjZU",
      "include_colab_link": true
    },
    "kernelspec": {
      "name": "python3",
      "display_name": "Python 3"
    },
    "language_info": {
      "name": "python"
    }
  },
  "cells": [
    {
      "cell_type": "markdown",
      "metadata": {
        "id": "view-in-github",
        "colab_type": "text"
      },
      "source": [
        "<a href=\"https://colab.research.google.com/github/IqmanS/Image-to-Text-to-Speech/blob/main/Image_to_Text_to_Speech.ipynb\" target=\"_parent\"><img src=\"https://colab.research.google.com/assets/colab-badge.svg\" alt=\"Open In Colab\"/></a>"
      ]
    },
    {
      "cell_type": "code",
      "execution_count": 50,
      "metadata": {
        "colab": {
          "base_uri": "https://localhost:8080/"
        },
        "id": "gXUqUogde5Rw",
        "outputId": "198a2036-5869-4b00-b49f-8924f468f638"
      },
      "outputs": [
        {
          "output_type": "stream",
          "name": "stdout",
          "text": [
            "Reading package lists... Done\n",
            "Building dependency tree       \n",
            "Reading state information... Done\n",
            "tesseract-ocr is already the newest version (4.1.1-2build2).\n",
            "0 upgraded, 0 newly installed, 0 to remove and 38 not upgraded.\n",
            "Looking in indexes: https://pypi.org/simple, https://us-python.pkg.dev/colab-wheels/public/simple/\n",
            "Requirement already satisfied: text-to-speech in /usr/local/lib/python3.10/dist-packages (1.6.0)\n",
            "Requirement already satisfied: gTTS>=2.3.1 in /usr/local/lib/python3.10/dist-packages (from text-to-speech) (2.3.2)\n",
            "Requirement already satisfied: requests<3,>=2.27 in /usr/local/lib/python3.10/dist-packages (from gTTS>=2.3.1->text-to-speech) (2.27.1)\n",
            "Requirement already satisfied: click<8.2,>=7.1 in /usr/local/lib/python3.10/dist-packages (from gTTS>=2.3.1->text-to-speech) (8.1.3)\n",
            "Requirement already satisfied: urllib3<1.27,>=1.21.1 in /usr/local/lib/python3.10/dist-packages (from requests<3,>=2.27->gTTS>=2.3.1->text-to-speech) (1.26.15)\n",
            "Requirement already satisfied: certifi>=2017.4.17 in /usr/local/lib/python3.10/dist-packages (from requests<3,>=2.27->gTTS>=2.3.1->text-to-speech) (2022.12.7)\n",
            "Requirement already satisfied: charset-normalizer~=2.0.0 in /usr/local/lib/python3.10/dist-packages (from requests<3,>=2.27->gTTS>=2.3.1->text-to-speech) (2.0.12)\n",
            "Requirement already satisfied: idna<4,>=2.5 in /usr/local/lib/python3.10/dist-packages (from requests<3,>=2.27->gTTS>=2.3.1->text-to-speech) (3.4)\n",
            "Looking in indexes: https://pypi.org/simple, https://us-python.pkg.dev/colab-wheels/public/simple/\n",
            "Requirement already satisfied: simply_ocr in /usr/local/lib/python3.10/dist-packages (0.0.1)\n",
            "Requirement already satisfied: pytesseract in /usr/local/lib/python3.10/dist-packages (from simply_ocr) (0.3.10)\n",
            "Requirement already satisfied: opencv-python in /usr/local/lib/python3.10/dist-packages (from simply_ocr) (4.7.0.72)\n",
            "Requirement already satisfied: scikit-image in /usr/local/lib/python3.10/dist-packages (from simply_ocr) (0.19.3)\n",
            "Requirement already satisfied: numpy>=1.21.2 in /usr/local/lib/python3.10/dist-packages (from opencv-python->simply_ocr) (1.22.4)\n",
            "Requirement already satisfied: packaging>=21.3 in /usr/local/lib/python3.10/dist-packages (from pytesseract->simply_ocr) (23.1)\n",
            "Requirement already satisfied: Pillow>=8.0.0 in /usr/local/lib/python3.10/dist-packages (from pytesseract->simply_ocr) (8.4.0)\n",
            "Requirement already satisfied: scipy>=1.4.1 in /usr/local/lib/python3.10/dist-packages (from scikit-image->simply_ocr) (1.10.1)\n",
            "Requirement already satisfied: networkx>=2.2 in /usr/local/lib/python3.10/dist-packages (from scikit-image->simply_ocr) (3.1)\n",
            "Requirement already satisfied: imageio>=2.4.1 in /usr/local/lib/python3.10/dist-packages (from scikit-image->simply_ocr) (2.25.1)\n",
            "Requirement already satisfied: tifffile>=2019.7.26 in /usr/local/lib/python3.10/dist-packages (from scikit-image->simply_ocr) (2023.4.12)\n",
            "Requirement already satisfied: PyWavelets>=1.1.1 in /usr/local/lib/python3.10/dist-packages (from scikit-image->simply_ocr) (1.4.1)\n"
          ]
        }
      ],
      "source": [
        "!sudo apt install tesseract-ocr\n",
        "!pip install text-to-speech\n",
        "!pip install simply_ocr"
      ]
    },
    {
      "cell_type": "code",
      "source": [
        "import text_to_speech\n"
      ],
      "metadata": {
        "id": "8vDEFnB-e7um"
      },
      "execution_count": 51,
      "outputs": []
    },
    {
      "cell_type": "code",
      "source": [
        "text = \"\"\"Lorem Ipsum is simply dummy text of the printing and typesetting industry.\n",
        "      Lorem Ipsum has been the industry's standard dummy text ever since the 1500s,\n",
        "      when an unknown printer took a galley of type and scrambled it to make a type specimen book.\n",
        "      It has survived not only five centuries, but also the leap into electronic typesetting,\n",
        "      remaining essentially unchanged. \"\"\""
      ],
      "metadata": {
        "id": "k8slLKOBe973"
      },
      "execution_count": 52,
      "outputs": []
    },
    {
      "cell_type": "code",
      "source": [
        "text_to_speech.save(text, \"en\", file=\"lorem-ipsum.mp3\")"
      ],
      "metadata": {
        "id": "3kAxZe2_e-_r"
      },
      "execution_count": 53,
      "outputs": []
    },
    {
      "cell_type": "code",
      "source": [
        "!wget https://raw.githubusercontent.com/IqmanS/Image-to-Text-to-Speech/main/images/test1.png\n",
        "!wget https://raw.githubusercontent.com/IqmanS/Image-to-Text-to-Speech/main/images/test2.png"
      ],
      "metadata": {
        "colab": {
          "base_uri": "https://localhost:8080/"
        },
        "id": "CECf-zx5fE7x",
        "outputId": "e77369a6-e890-4283-bb7d-fb2b9e8ac975"
      },
      "execution_count": 54,
      "outputs": [
        {
          "output_type": "stream",
          "name": "stdout",
          "text": [
            "--2023-06-13 11:41:52--  https://raw.githubusercontent.com/IqmanS/Image-to-Text-to-Speech/main/images/test1.png\n",
            "Resolving raw.githubusercontent.com (raw.githubusercontent.com)... 185.199.108.133, 185.199.109.133, 185.199.110.133, ...\n",
            "Connecting to raw.githubusercontent.com (raw.githubusercontent.com)|185.199.108.133|:443... connected.\n",
            "HTTP request sent, awaiting response... 200 OK\n",
            "Length: 28148 (27K) [image/png]\n",
            "Saving to: ‘test1.png’\n",
            "\n",
            "\rtest1.png             0%[                    ]       0  --.-KB/s               \rtest1.png           100%[===================>]  27.49K  --.-KB/s    in 0.001s  \n",
            "\n",
            "2023-06-13 11:41:52 (34.4 MB/s) - ‘test1.png’ saved [28148/28148]\n",
            "\n",
            "--2023-06-13 11:41:52--  https://raw.githubusercontent.com/IqmanS/Image-to-Text-to-Speech/main/images/test2.png\n",
            "Resolving raw.githubusercontent.com (raw.githubusercontent.com)... 185.199.108.133, 185.199.109.133, 185.199.110.133, ...\n",
            "Connecting to raw.githubusercontent.com (raw.githubusercontent.com)|185.199.108.133|:443... connected.\n",
            "HTTP request sent, awaiting response... 200 OK\n",
            "Length: 31030 (30K) [image/png]\n",
            "Saving to: ‘test2.png’\n",
            "\n",
            "test2.png           100%[===================>]  30.30K  --.-KB/s    in 0.001s  \n",
            "\n",
            "2023-06-13 11:41:52 (24.7 MB/s) - ‘test2.png’ saved [31030/31030]\n",
            "\n"
          ]
        }
      ]
    },
    {
      "cell_type": "code",
      "source": [
        "from simply_ocr import read_image_en\n",
        "\n",
        "test1 = read_image_en(\"/content/test1.png\")\n",
        "# print(test1)\n",
        "text_to_speech.save(test1, \"en\", file=\"test1.mp3\")\n"
      ],
      "metadata": {
        "colab": {
          "base_uri": "https://localhost:8080/"
        },
        "id": "Soby2hWJfQNl",
        "outputId": "b2b2e8c8-6bef-484e-d417-e015a0c1fda8"
      },
      "execution_count": 55,
      "outputs": [
        {
          "output_type": "stream",
          "name": "stdout",
          "text": [
            "Optical character recognition or optical character reader (OCR) is the fold\n",
            "\n",
            "conversion of of typed, handwritten or printed text into machine-encoded text, whether from a\n",
            "scanned document, a photo of a document, a scene-photo (for example the text on signs and\n",
            "billboards in a landscape photo) or from subtitle text superimposed on an image (for example: from a\n",
            "television broadcast).\n",
            "\f\n"
          ]
        }
      ]
    },
    {
      "cell_type": "code",
      "source": [
        "test2 = read_image_en(\"/content/test2.png\")\n",
        "# print(test2)\n",
        "text_to_speech.save(test2, \"en\", file=\"test2.mp3\")\n"
      ],
      "metadata": {
        "colab": {
          "base_uri": "https://localhost:8080/"
        },
        "id": "NN1igwm4f_qs",
        "outputId": "b57ca798-5556-4052-9c5d-6779038e1d1b"
      },
      "execution_count": 56,
      "outputs": [
        {
          "output_type": "stream",
          "name": "stdout",
          "text": [
            "elem anime l-W am Ptr leet orm Cola L et U Cale ate e TL mele CTaLTOQYE Me) OTL nota ono aT Le-18\n",
            "memorable F1 races ever staged. With the clock stopping at an incredible four hours, four minutes\n",
            "EVale Behe t-leto) ae et -WO Me UaLCMCle-Ua  aPaeLLOmTal me oN ORM UTM (oda -t-t-tem-a lol e aL\n",
            "\n",
            "Sele aaee nea\n",
            "\f\n"
          ]
        }
      ]
    }
  ]
}